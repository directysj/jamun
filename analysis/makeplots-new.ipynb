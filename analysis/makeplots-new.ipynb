{
 "cells": [
  {
   "cell_type": "code",
   "execution_count": null,
   "metadata": {},
   "outputs": [],
   "source": [
    "from typing import Dict, Optional\n",
    "import os\n",
    "import dotenv\n",
    "\n",
    "import mdtraj as md\n",
    "import numpy as np\n",
    "import pyemma\n",
    "import scipy.spatial\n",
    "import matplotlib.pyplot as plt\n",
    "import lovelyplots\n",
    "plt.style.use('ipynb')\n",
    "\n",
    "from jamun.metrics._ramachandran import compute_JS_divergence_of_ramachandran, num_dihedrals\n",
    "from jamun.utils import convert_to_three_letter_code\n",
    "\n",
    "from utils import get_JAMUN_trajectories, get_OpenMM_trajectories, get_Timewarp_trajectories, get_featurized_trajectory"
   ]
  },
  {
   "cell_type": "code",
   "execution_count": null,
   "metadata": {},
   "outputs": [],
   "source": [
    "JAMUN_DATA_PATH = os.environ.get(\"JAMUN_DATA_PATH\", dotenv.get_key(\"../.env\", \"JAMUN_DATA_PATH\"))\n",
    "JAMUN_DATA_PATH"
   ]
  },
  {
   "cell_type": "markdown",
   "metadata": {},
   "source": [
    "Weights and Biases run paths for the sampling runs!"
   ]
  },
  {
   "cell_type": "code",
   "execution_count": 3,
   "metadata": {},
   "outputs": [],
   "source": [
    "wandb_sample_run_paths = [\n",
    "    \"prescient-design/jamun/4rnu5lxp\"\n",
    "]\n",
    "\n",
    "wandb_sample_run_paths = [\n",
    "    \"prescient-design/jamun/c5h9zfit\",\n",
    "    \"prescient-design/jamun/botsuh9x\",\n",
    "    \"prescient-design/jamun/d25trxw5\",\n",
    "]"
   ]
  },
  {
   "cell_type": "code",
   "execution_count": 4,
   "metadata": {},
   "outputs": [],
   "source": [
    "import wandb\n",
    "run = wandb.Api().run(\"prescient-design/jamun/c5h9zfit\")\n"
   ]
  },
  {
   "cell_type": "code",
   "execution_count": null,
   "metadata": {},
   "outputs": [],
   "source": [
    "JAMUN_trajs = get_JAMUN_trajectories(wandb_sample_run_paths)\n",
    "peptides = [\"AC\", \"AD\"]\n",
    "JAMUN_trajs = {peptide: JAMUN_trajs[peptide] for peptide in peptides}\n",
    "JAMUN_trajs"
   ]
  },
  {
   "cell_type": "code",
   "execution_count": null,
   "metadata": {},
   "outputs": [],
   "source": [
    "Timewarp_trajs = get_Timewarp_trajectories(JAMUN_DATA_PATH, peptide_type=\"2AA\", filter_codes=list(JAMUN_trajs.keys()))\n",
    "Timewarp_trajs"
   ]
  },
  {
   "cell_type": "code",
   "execution_count": null,
   "metadata": {},
   "outputs": [],
   "source": [
    "OpenMM_trajs = get_OpenMM_trajectories(JAMUN_DATA_PATH, filter_codes=list(JAMUN_trajs.keys()))\n",
    "OpenMM_trajs"
   ]
  },
  {
   "cell_type": "code",
   "execution_count": 9,
   "metadata": {},
   "outputs": [],
   "source": [
    "# dir = \"/data/bucket/kleinhej//capped_diamines/timewarp_splits/test/\"\n",
    "# for filename in os.listdir(dir):\n",
    "#     peptide = filename.split(\".\")[0]\n",
    "#     traj = md.load_xtc(f\"{dir}/{peptide}.xtc\", top=f\"{dir}/{peptide}.pdb\")\n",
    "#     print(peptide, traj.n_frames, \"frames\")\n",
    "#     del traj\n"
   ]
  },
  {
   "cell_type": "code",
   "execution_count": 10,
   "metadata": {},
   "outputs": [],
   "source": [
    "# TBG_trajs = get_TBG_trajectories(\"tbg_samples\")"
   ]
  },
  {
   "cell_type": "code",
   "execution_count": null,
   "metadata": {},
   "outputs": [],
   "source": [
    "fig, axs = plt.subplots(nrows=len(JAMUN_trajs), ncols=2, figsize=(12, 6), squeeze=False)\n",
    "for i, peptide in enumerate(JAMUN_trajs):\n",
    "\n",
    "    Timewarp_feat, Timewarp_featurized_traj = get_featurized_trajectory(Timewarp_trajs[peptide])\n",
    "    pyemma.plots.plot_feature_histograms(Timewarp_featurized_traj, feature_labels=Timewarp_feat.describe(), ax=axs[i, 0])\n",
    "\n",
    "    JAMUN_feat, JAMUN_featurized_traj = get_featurized_trajectory(JAMUN_trajs[peptide])\n",
    "    pyemma.plots.plot_feature_histograms(JAMUN_featurized_traj, feature_labels=JAMUN_feat.describe(), ax=axs[i, 1])\n",
    "\n",
    "    peptide_3letter = \"-\".join([convert_to_three_letter_code(aa) for aa in peptide])\n",
    "    axs[i, -1].text(1.1, 0.5, peptide_3letter, rotation=90, verticalalignment='center', horizontalalignment='center', transform=axs[i, -1].transAxes)\n",
    "\n",
    "axs[0, 0].set_title(\"Uncapped 2AA Reference\")\n",
    "axs[0, 1].set_title(\"JAMUN\")\n",
    "plt.tight_layout()"
   ]
  },
  {
   "cell_type": "code",
   "execution_count": null,
   "metadata": {},
   "outputs": [],
   "source": [
    "for i, peptide in enumerate(JAMUN_trajs):\n",
    "    Timewarp_feat, Timewarp_featurized_traj = get_featurized_trajectory(Timewarp_trajs[peptide])\n",
    "    JAMUN_feat, JAMUN_featurized_traj = get_featurized_trajectory(JAMUN_trajs[peptide])\n",
    "\n",
    "    print(\"peptide\", peptide)\n",
    "    for j, feat in enumerate(Timewarp_feat.describe()):\n",
    "        Timewarp_p = np.histogram(Timewarp_featurized_traj[:,j], range=(-np.pi, np.pi), bins=100)[0]\n",
    "        JAMUN_p = np.histogram(JAMUN_featurized_traj[:,j], range=(-np.pi, np.pi), bins=100)[0]\n",
    "        print(feat, \"JSD:\", scipy.spatial.distance.jensenshannon(Timewarp_p, JAMUN_p))\n"
   ]
  },
  {
   "cell_type": "code",
   "execution_count": null,
   "metadata": {},
   "outputs": [],
   "source": [
    "fig, axs = plt.subplots(nrows=len(JAMUN_trajs), ncols=2, figsize=(12, 6), squeeze=False)\n",
    "\n",
    "for i, peptide in enumerate(JAMUN_trajs):\n",
    "    Timewarp_feat, Timewarp_featurized_traj = get_featurized_trajectory(Timewarp_trajs[peptide], cossin=True)\n",
    "    JAMUN_feat, JAMUN_featurized_traj = get_featurized_trajectory(JAMUN_trajs[peptide], cossin=True)\n",
    "    \n",
    "    tica = pyemma.coordinates.tica(Timewarp_featurized_traj, lag=1000, kinetic_map=True)\n",
    "    Timewarp_tica = tica.transform(Timewarp_featurized_traj)\n",
    "    JAMUN_tica = tica.transform(JAMUN_featurized_traj)\n",
    "\n",
    "    pyemma.plots.plot_free_energy(Timewarp_tica[:,0], Timewarp_tica[:,1], cmap=\"plasma\", ax=axs[i, 0])\n",
    "    axs[i, 0].set_title(\"Uncapped 2AA Reference\")\n",
    "\n",
    "    pyemma.plots.plot_free_energy(JAMUN_tica[:,0], JAMUN_tica[:,1], cmap=\"plasma\", ax=axs[i, 1])\n",
    "    axs[i, 1].set_title(\"JAMUN\")\n",
    "\n",
    "    peptide_3letter = \"-\".join([convert_to_three_letter_code(aa) for aa in peptide])\n",
    "    axs[i, -1].text(1.4, 0.5, peptide_3letter, rotation=90, verticalalignment='center', horizontalalignment='center', transform=axs[i, -1].transAxes)\n",
    "\n",
    "plt.tight_layout()"
   ]
  },
  {
   "cell_type": "code",
   "execution_count": 14,
   "metadata": {},
   "outputs": [],
   "source": [
    "def plot_ramachandran_contour(traj: md.Trajectory, dihedral_index: int, ax: Optional[plt.Axes] = None) -> plt.Axes:\n",
    "    \"\"\"Plots the Ramachandran contour plot of a trajectory.\"\"\"\n",
    "\n",
    "    if ax is None:\n",
    "        _, ax = plt.subplots(figsize=(10,10))\n",
    "    \n",
    "    _, phi = md.compute_phi(traj)\n",
    "    _, psi = md.compute_psi(traj)\n",
    "    H, xedges, yedges = np.histogram2d(phi.T[dihedral_index], psi.T[dihedral_index], bins=np.linspace(-np.pi,np.pi,50))\n",
    "    pmf = -np.log(H.T)+np.max(np.log(H.T))\n",
    "\n",
    "    im = ax.contourf(xedges[:-1], yedges[:-1], pmf, cmap='viridis', levels=50)\n",
    "    contour = ax.contour(xedges[:-1], yedges[:-1], pmf, colors='white', linestyles='solid', levels=30, linewidths=0.25)\n",
    "\n",
    "    ax.set_aspect('equal', adjustable='box')\n",
    "    ax.set_xlabel(\"$\\phi$\")\n",
    "    ax.set_ylabel(\"$\\psi$\")\n",
    "    \n",
    "    tick_eps = 0.1\n",
    "    ticks = [-np.pi + tick_eps, -np.pi/2, 0, np.pi/2, np.pi - tick_eps]\n",
    "    tick_labels = [\"$-\\pi$\", \"$-\\pi/2$\", \"$0$\", \"$\\pi/2$\", \"$\\pi$\"]\n",
    "    ax.set_xticks(ticks, tick_labels)\n",
    "    ax.set_yticks(ticks, tick_labels)\n",
    "    \n",
    "    return ax"
   ]
  },
  {
   "cell_type": "code",
   "execution_count": null,
   "metadata": {},
   "outputs": [],
   "source": [
    "n_dihedrals = num_dihedrals(next(iter(JAMUN_trajs.values())))\n",
    "print(\"n_dihedrals\", n_dihedrals)\n",
    "if n_dihedrals % 2 == 0:\n",
    "    label_offset = 1.0\n",
    "else:\n",
    "    label_offset = 0.5\n",
    "print(\"label_offset\", label_offset)\n",
    "\n",
    "\n",
    "fig, axs = plt.subplots(len(JAMUN_trajs), 2 * n_dihedrals, figsize=(16, 8), squeeze=False)\n",
    "for i, peptide in enumerate(JAMUN_trajs):\n",
    "    for j in range(n_dihedrals):\n",
    "        plot_ramachandran_contour(Timewarp_trajs[peptide], j, axs[i, j])\n",
    "        plot_ramachandran_contour(JAMUN_trajs[peptide], j, axs[i, j + n_dihedrals])\n",
    "\n",
    "    # Add labels.\n",
    "    axs[0, n_dihedrals // 2].text(label_offset, 1.1, \"Uncapped 2AA Reference\", horizontalalignment='center', verticalalignment='center', transform=axs[0, n_dihedrals // 2].transAxes)\n",
    "    axs[0, n_dihedrals // 2 + n_dihedrals].text(label_offset, 1.1, \"JAMUN\", horizontalalignment='center', verticalalignment='center', transform=axs[0, n_dihedrals // 2 + n_dihedrals].transAxes)\n",
    "    \n",
    "    peptide_3letter = \"-\".join([convert_to_three_letter_code(aa) for aa in peptide])\n",
    "    axs[i, -1].text(1.1, 0.5, peptide_3letter, rotation=90, verticalalignment='center', horizontalalignment='center', transform=axs[i, -1].transAxes)\n",
    "\n",
    "plt.tight_layout()\n",
    "plt.show()"
   ]
  },
  {
   "cell_type": "code",
   "execution_count": 16,
   "metadata": {},
   "outputs": [],
   "source": [
    "def compute_JS_divergence_vs_time(traj: md.Trajectory, reference_traj: md.Trajectory, num_steps: int) -> np.ndarray:\n",
    "    \"\"\"Computes the JS divergence between the Ramachandran distributions of a trajectory and a reference trajectory at different time points.\"\"\"\n",
    "    steps = np.linspace(0, len(traj), (num_steps + 1)).astype(int)[1:]\n",
    "\n",
    "    js_divs = [\n",
    "        compute_JS_divergence_of_ramachandran(\n",
    "            traj[:step],\n",
    "            reference_traj,\n",
    "        )\n",
    "        for step in steps\n",
    "    ]\n",
    "    return np.array(js_divs)\n",
    "\n",
    "def compute_JS_divergences_vs_time(trajs: Dict[str, md.Trajectory], reference_trajs: Dict[str, md.Trajectory], num_steps: int) -> Dict[str, np.ndarray]:\n",
    "    \"\"\"Computes the JS divergence between the Ramachandran distributions of a set of trajectories and a reference trajectory at different time points.\"\"\"\n",
    "    return {peptide: compute_JS_divergence_vs_time(trajs[peptide], reference_trajs[peptide], num_steps) for peptide in trajs}\n"
   ]
  },
  {
   "cell_type": "code",
   "execution_count": 17,
   "metadata": {},
   "outputs": [],
   "source": [
    "num_steps = 10\n",
    "JAMUN_js_divs = compute_JS_divergences_vs_time(JAMUN_trajs, Timewarp_trajs, num_steps)\n",
    "Timewarp_js_divs = compute_JS_divergences_vs_time(Timewarp_trajs, Timewarp_trajs, num_steps)"
   ]
  },
  {
   "cell_type": "code",
   "execution_count": null,
   "metadata": {},
   "outputs": [],
   "source": [
    "for index, peptide in enumerate(JAMUN_js_divs):\n",
    "    if index == 0:\n",
    "        Timewarp_label = None\n",
    "        JAMUN_label = None\n",
    "    else:\n",
    "        Timewarp_label = \"Uncapped 2AA Reference\"\n",
    "        JAMUN_label = \"JAMUN\"\n",
    "\n",
    "    progress = np.arange(num_steps) / num_steps\n",
    "    plt.plot(progress, Timewarp_js_divs[peptide], color='C0', label=Timewarp_label)\n",
    "    plt.plot(progress, JAMUN_js_divs[peptide], color='C1', label=JAMUN_label)\n",
    "\n",
    "plt.title(\"Jenson-Shannon Divergences\")\n",
    "plt.xlabel(\"Fraction of Trajectory Progress\", fontsize=12)\n",
    "plt.ylabel(\"Jenson-Shannon Divergence\", fontsize=12)\n",
    "plt.ticklabel_format(useOffset=False, style='plain')\n",
    "plt.legend(fontsize=10)\n",
    "plt.xticks(fontsize=8)\n",
    "plt.yticks(fontsize=8)\n",
    "plt.show()"
   ]
  }
 ],
 "metadata": {
  "kernelspec": {
   "display_name": "jamun-extras",
   "language": "python",
   "name": "python3"
  },
  "language_info": {
   "codemirror_mode": {
    "name": "ipython",
    "version": 3
   },
   "file_extension": ".py",
   "mimetype": "text/x-python",
   "name": "python",
   "nbconvert_exporter": "python",
   "pygments_lexer": "ipython3",
   "version": "3.10.16"
  }
 },
 "nbformat": 4,
 "nbformat_minor": 2
}
